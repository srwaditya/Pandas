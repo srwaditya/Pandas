{
 "cells": [
  {
   "cell_type": "code",
   "execution_count": 3,
   "metadata": {
    "id": "uutVSXkdGBfm"
   },
   "outputs": [],
   "source": [
    "import numpy as np\n",
    "import pandas as pd"
   ]
  },
  {
   "cell_type": "code",
   "execution_count": 5,
   "metadata": {
    "id": "D5qL_wtxGBfy"
   },
   "outputs": [],
   "source": [
    "df=pd.read_csv(\"MegaMart_sales.csv\")"
   ]
  },
  {
   "cell_type": "code",
   "execution_count": 8,
   "metadata": {
    "id": "XnbRL0HIGBf0"
   },
   "outputs": [
    {
     "data": {
      "text/html": [
       "<div>\n",
       "<style scoped>\n",
       "    .dataframe tbody tr th:only-of-type {\n",
       "        vertical-align: middle;\n",
       "    }\n",
       "\n",
       "    .dataframe tbody tr th {\n",
       "        vertical-align: top;\n",
       "    }\n",
       "\n",
       "    .dataframe thead th {\n",
       "        text-align: right;\n",
       "    }\n",
       "</style>\n",
       "<table border=\"1\" class=\"dataframe\">\n",
       "  <thead>\n",
       "    <tr style=\"text-align: right;\">\n",
       "      <th></th>\n",
       "      <th>Order ID</th>\n",
       "      <th>Product Name</th>\n",
       "      <th>Discount</th>\n",
       "      <th>Sales</th>\n",
       "      <th>Profit</th>\n",
       "      <th>Quantity</th>\n",
       "      <th>Category</th>\n",
       "      <th>Sub-Category</th>\n",
       "    </tr>\n",
       "  </thead>\n",
       "  <tbody>\n",
       "    <tr>\n",
       "      <th>0</th>\n",
       "      <td>AZ-2011-1029887</td>\n",
       "      <td>Novimex Color Coded Labels, 5000 Label Set</td>\n",
       "      <td>0.0</td>\n",
       "      <td>26</td>\n",
       "      <td>7</td>\n",
       "      <td>2</td>\n",
       "      <td>Office Supplies</td>\n",
       "      <td>Labels</td>\n",
       "    </tr>\n",
       "    <tr>\n",
       "      <th>1</th>\n",
       "      <td>AZ-2011-107716</td>\n",
       "      <td>Deflect-O Door Stop, Erganomic</td>\n",
       "      <td>0.0</td>\n",
       "      <td>85</td>\n",
       "      <td>15</td>\n",
       "      <td>2</td>\n",
       "      <td>Furniture</td>\n",
       "      <td>Furnishings</td>\n",
       "    </tr>\n",
       "    <tr>\n",
       "      <th>2</th>\n",
       "      <td>AZ-2011-1087704</td>\n",
       "      <td>Belkin Flash Drive, Bluetooth</td>\n",
       "      <td>0.0</td>\n",
       "      <td>294</td>\n",
       "      <td>109</td>\n",
       "      <td>7</td>\n",
       "      <td>Technology</td>\n",
       "      <td>Accessories</td>\n",
       "    </tr>\n",
       "    <tr>\n",
       "      <th>3</th>\n",
       "      <td>AZ-2011-1372644</td>\n",
       "      <td>Panasonic Printer, Durable</td>\n",
       "      <td>0.0</td>\n",
       "      <td>800</td>\n",
       "      <td>168</td>\n",
       "      <td>3</td>\n",
       "      <td>Technology</td>\n",
       "      <td>Machines</td>\n",
       "    </tr>\n",
       "    <tr>\n",
       "      <th>4</th>\n",
       "      <td>AZ-2011-1362199</td>\n",
       "      <td>Sanford Pens, Fluorescent</td>\n",
       "      <td>0.5</td>\n",
       "      <td>25</td>\n",
       "      <td>-11</td>\n",
       "      <td>4</td>\n",
       "      <td>Office Supplies</td>\n",
       "      <td>Art</td>\n",
       "    </tr>\n",
       "  </tbody>\n",
       "</table>\n",
       "</div>"
      ],
      "text/plain": [
       "          Order ID                                Product Name  Discount  \\\n",
       "0  AZ-2011-1029887  Novimex Color Coded Labels, 5000 Label Set       0.0   \n",
       "1   AZ-2011-107716              Deflect-O Door Stop, Erganomic       0.0   \n",
       "2  AZ-2011-1087704               Belkin Flash Drive, Bluetooth       0.0   \n",
       "3  AZ-2011-1372644                  Panasonic Printer, Durable       0.0   \n",
       "4  AZ-2011-1362199                   Sanford Pens, Fluorescent       0.5   \n",
       "\n",
       "   Sales  Profit  Quantity         Category Sub-Category  \n",
       "0     26       7         2  Office Supplies       Labels  \n",
       "1     85      15         2        Furniture  Furnishings  \n",
       "2    294     109         7       Technology  Accessories  \n",
       "3    800     168         3       Technology     Machines  \n",
       "4     25     -11         4  Office Supplies          Art  "
      ]
     },
     "execution_count": 8,
     "metadata": {},
     "output_type": "execute_result"
    }
   ],
   "source": [
    "df.head()"
   ]
  },
  {
   "cell_type": "code",
   "execution_count": 9,
   "metadata": {},
   "outputs": [
    {
     "data": {
      "text/plain": [
       "(59, 8)"
      ]
     },
     "execution_count": 9,
     "metadata": {},
     "output_type": "execute_result"
    }
   ],
   "source": [
    "df.shape"
   ]
  },
  {
   "cell_type": "code",
   "execution_count": 11,
   "metadata": {},
   "outputs": [],
   "source": [
    "df_new=pd.read_csv(\"MegaMart_newsales.csv\")"
   ]
  },
  {
   "cell_type": "markdown",
   "metadata": {
    "id": "8i2QXssbGBf1"
   },
   "source": [
    "\n"
   ]
  },
  {
   "cell_type": "code",
   "execution_count": 12,
   "metadata": {},
   "outputs": [
    {
     "data": {
      "text/html": [
       "<div>\n",
       "<style scoped>\n",
       "    .dataframe tbody tr th:only-of-type {\n",
       "        vertical-align: middle;\n",
       "    }\n",
       "\n",
       "    .dataframe tbody tr th {\n",
       "        vertical-align: top;\n",
       "    }\n",
       "\n",
       "    .dataframe thead th {\n",
       "        text-align: right;\n",
       "    }\n",
       "</style>\n",
       "<table border=\"1\" class=\"dataframe\">\n",
       "  <thead>\n",
       "    <tr style=\"text-align: right;\">\n",
       "      <th></th>\n",
       "      <th>Order ID</th>\n",
       "      <th>Product Name</th>\n",
       "      <th>Discount</th>\n",
       "      <th>Sales</th>\n",
       "      <th>Profit</th>\n",
       "      <th>Quantity</th>\n",
       "      <th>Category</th>\n",
       "      <th>Sub-Category</th>\n",
       "    </tr>\n",
       "  </thead>\n",
       "  <tbody>\n",
       "    <tr>\n",
       "      <th>0</th>\n",
       "      <td>AZ-2011-1902971</td>\n",
       "      <td>Wilson Jones Binding Machine, Clear</td>\n",
       "      <td>0.0</td>\n",
       "      <td>339</td>\n",
       "      <td>102</td>\n",
       "      <td>7</td>\n",
       "      <td>Office Supplies</td>\n",
       "      <td>Binders</td>\n",
       "    </tr>\n",
       "    <tr>\n",
       "      <th>1</th>\n",
       "      <td>AZ-2011-1916360</td>\n",
       "      <td>Dania 3-Shelf Cabinet, Mobile</td>\n",
       "      <td>0.0</td>\n",
       "      <td>288</td>\n",
       "      <td>20</td>\n",
       "      <td>2</td>\n",
       "      <td>Furniture</td>\n",
       "      <td>Bookcases</td>\n",
       "    </tr>\n",
       "    <tr>\n",
       "      <th>2</th>\n",
       "      <td>AZ-2011-1916555</td>\n",
       "      <td>Eldon Folders, Single Width</td>\n",
       "      <td>0.4</td>\n",
       "      <td>61</td>\n",
       "      <td>7</td>\n",
       "      <td>6</td>\n",
       "      <td>Office Supplies</td>\n",
       "      <td>Storage</td>\n",
       "    </tr>\n",
       "    <tr>\n",
       "      <th>3</th>\n",
       "      <td>AZ-2011-1930058</td>\n",
       "      <td>Sanford Markers, Easy-Erase</td>\n",
       "      <td>0.0</td>\n",
       "      <td>71</td>\n",
       "      <td>1</td>\n",
       "      <td>3</td>\n",
       "      <td>Office Supplies</td>\n",
       "      <td>Art</td>\n",
       "    </tr>\n",
       "    <tr>\n",
       "      <th>4</th>\n",
       "      <td>AZ-2011-1967754</td>\n",
       "      <td>Logitech Numeric Keypad, USB</td>\n",
       "      <td>0.0</td>\n",
       "      <td>93</td>\n",
       "      <td>40</td>\n",
       "      <td>2</td>\n",
       "      <td>Technology</td>\n",
       "      <td>Accessories</td>\n",
       "    </tr>\n",
       "  </tbody>\n",
       "</table>\n",
       "</div>"
      ],
      "text/plain": [
       "          Order ID                         Product Name  Discount  Sales  \\\n",
       "0  AZ-2011-1902971  Wilson Jones Binding Machine, Clear       0.0    339   \n",
       "1  AZ-2011-1916360        Dania 3-Shelf Cabinet, Mobile       0.0    288   \n",
       "2  AZ-2011-1916555          Eldon Folders, Single Width       0.4     61   \n",
       "3  AZ-2011-1930058          Sanford Markers, Easy-Erase       0.0     71   \n",
       "4  AZ-2011-1967754         Logitech Numeric Keypad, USB       0.0     93   \n",
       "\n",
       "   Profit  Quantity         Category Sub-Category  \n",
       "0     102         7  Office Supplies      Binders  \n",
       "1      20         2        Furniture    Bookcases  \n",
       "2       7         6  Office Supplies      Storage  \n",
       "3       1         3  Office Supplies          Art  \n",
       "4      40         2       Technology  Accessories  "
      ]
     },
     "execution_count": 12,
     "metadata": {},
     "output_type": "execute_result"
    }
   ],
   "source": [
    "df_new.head()"
   ]
  },
  {
   "cell_type": "code",
   "execution_count": 13,
   "metadata": {},
   "outputs": [
    {
     "data": {
      "text/plain": [
       "(9, 8)"
      ]
     },
     "execution_count": 13,
     "metadata": {},
     "output_type": "execute_result"
    }
   ],
   "source": [
    "df_new.shape"
   ]
  },
  {
   "cell_type": "markdown",
   "metadata": {
    "id": "MGItV5pWGBf6"
   },
   "source": [
    "#### Combining two data frames\n",
    "Question 1: Some of the orders are stored in another csv file named `megamart_new sales`. Read the csv file, store it in a data frame and add it to the `megamart_sales` data frame. Find the total sales value of the category 'Office Supplies'  after combining the dataframes\n",
    "\n",
    "    a)7970\n",
    "    b)6964\n",
    "    c)7494\n",
    "    d)6076"
   ]
  },
  {
   "cell_type": "code",
   "execution_count": 14,
   "metadata": {
    "id": "QYBtMG1NGBf7"
   },
   "outputs": [
    {
     "data": {
      "text/plain": [
       "Category\n",
       "Furniture          2460\n",
       "Office Supplies    7970\n",
       "Technology         8588\n",
       "Name: Sales, dtype: int64"
      ]
     },
     "execution_count": 14,
     "metadata": {},
     "output_type": "execute_result"
    }
   ],
   "source": [
    "#your code here\n",
    "df=pd.concat([df,df_new],axis=0,ignore_index=True) \n",
    "\n",
    "df.groupby(by='Category').Sales.sum()"
   ]
  },
  {
   "cell_type": "markdown",
   "metadata": {
    "id": "z4Z0ZMHsGBf9"
   },
   "source": [
    "#### Dropping duplicates\n",
    "Question 2: There are some duplicate rows in the data frame. Drop these rows and calculate the total sales value of the category Office Supplies.\n",
    "\n",
    "    a)7156\n",
    "    b)6496\n",
    "    c)6964\n",
    "    d)6023"
   ]
  },
  {
   "cell_type": "code",
   "execution_count": 15,
   "metadata": {
    "id": "35vdjyU2GBf_"
   },
   "outputs": [
    {
     "data": {
      "text/plain": [
       "Category\n",
       "Furniture          2460\n",
       "Office Supplies    6964\n",
       "Technology         7494\n",
       "Name: Sales, dtype: int64"
      ]
     },
     "execution_count": 15,
     "metadata": {},
     "output_type": "execute_result"
    }
   ],
   "source": [
    "#your code here\n",
    "\n",
    "df.drop_duplicates(subset=None,keep='first',inplace = True)\n",
    "df.groupby(by='Category').Sales.sum()"
   ]
  },
  {
   "cell_type": "markdown",
   "metadata": {
    "id": "71CSKOO0GBgC"
   },
   "source": [
    "#### Best category-sub category \n",
    "Question 3: Find the most profitable category and sub category combination based on the net profit.\n",
    "\n",
    "\n",
    "    a)Furniture-Bookcases\n",
    "    b)Office supplies-Appliances\n",
    "    c)Office supplies-Storage\n",
    "    d)Technology-Phones"
   ]
  },
  {
   "cell_type": "code",
   "execution_count": 18,
   "metadata": {
    "id": "-W66EdQqGBgF"
   },
   "outputs": [
    {
     "data": {
      "text/plain": [
       "Category         Sub-Category\n",
       "Furniture        Bookcases        308\n",
       "                 Chairs           -49\n",
       "                 Furnishings       74\n",
       "Office Supplies  Appliances       229\n",
       "                 Art              275\n",
       "                 Binders          156\n",
       "                 Envelopes         35\n",
       "                 Fasteners         10\n",
       "                 Labels            30\n",
       "                 Paper             15\n",
       "                 Storage          192\n",
       "                 Supplies         103\n",
       "Technology       Accessories      215\n",
       "                 Copiers            0\n",
       "                 Machines         168\n",
       "                 Phones          1618\n",
       "Name: Profit, dtype: int64"
      ]
     },
     "execution_count": 18,
     "metadata": {},
     "output_type": "execute_result"
    }
   ],
   "source": [
    "#your code here\n",
    "df.drop_duplicates(subset=None,keep='first',inplace = True)\n",
    "df.groupby(by='Category').Sales.sum()\n",
    "df.groupby(by=['Category','Sub-Category']).Profit.sum()"
   ]
  },
  {
   "cell_type": "markdown",
   "metadata": {
    "id": "nIf1pLgbGBgG"
   },
   "source": [
    "#### Invalid order IDs\n",
    "Question 4: How many invalid order IDs are there in the data frame? An order id is of the form AZ-2011-Y where Y represents a whole number. A Order ID is said to be valid only if Y consists of 7 digits. Find the number of invalid order IDs in the data frame.\n",
    "    \n",
    "    a)6\n",
    "    b)7\n",
    "    c)8\n",
    "    d)9\n"
   ]
  },
  {
   "cell_type": "code",
   "execution_count": 19,
   "metadata": {
    "id": "umb45LP_GBgH"
   },
   "outputs": [
    {
     "data": {
      "text/plain": [
       "7    54\n",
       "6     7\n",
       "Name: no_of_digits, dtype: int64"
      ]
     },
     "execution_count": 19,
     "metadata": {},
     "output_type": "execute_result"
    }
   ],
   "source": [
    "#your code here\n",
    "\n",
    "df['Order no']=df['Order ID'].str.split('-')\n",
    "\n",
    "df['Order no']=df['Order no'].apply(lambda x: x[2])\n",
    "\n",
    "df['no_of_digits']=df['Order no'].apply(lambda x: len(x))\n",
    "\n",
    "df['no_of_digits'].value_counts()"
   ]
  },
  {
   "cell_type": "markdown",
   "metadata": {
    "id": "nTGiL7EgGBgJ"
   },
   "source": [
    "#### Occurence of furniture in top 25 sales\n",
    "Question 5: Find the top 25 orders based on sales value and find the number of orders which belong to furniture category.\n",
    "\n",
    "    a)2\n",
    "    b)3\n",
    "    c)4\n",
    "    d)5 "
   ]
  },
  {
   "cell_type": "code",
   "execution_count": 20,
   "metadata": {
    "id": "moF_6DakGBgK"
   },
   "outputs": [
    {
     "data": {
      "text/plain": [
       "Office Supplies    11\n",
       "Technology          9\n",
       "Furniture           5\n",
       "Name: Category, dtype: int64"
      ]
     },
     "execution_count": 20,
     "metadata": {},
     "output_type": "execute_result"
    }
   ],
   "source": [
    "#your code here\n",
    "\n",
    "df2=df.sort_values(by='Sales', ascending=False)\n",
    "df2=df2.iloc[:25,]\n",
    "\n",
    "df2['Category'].value_counts()"
   ]
  },
  {
   "cell_type": "code",
   "execution_count": null,
   "metadata": {
    "id": "bsP41n7PGBgM"
   },
   "outputs": [],
   "source": []
  },
  {
   "cell_type": "markdown",
   "metadata": {
    "id": "arNK-W-jGBgN"
   },
   "source": [
    "#### And operation\n",
    "Question 6: Among the orders with sales>250 and profit>50, find the product name of the fourth highest order based on sales value.\n",
    "\n",
    "    a)Motorola Headset, with Caller ID\n",
    "    b)Panasonic Printer, Durable\t\n",
    "    c)Hoover Microwave, Red\t\n",
    "    d)Fellowes Lockers, Industrial\t"
   ]
  },
  {
   "cell_type": "code",
   "execution_count": 23,
   "metadata": {
    "id": "C_aeSSqEGBgN"
   },
   "outputs": [],
   "source": [
    "#your code here\n",
    "\n",
    "highest_order=df.loc[(df['Sales']>250) & (df['Profit']>50)]"
   ]
  },
  {
   "cell_type": "code",
   "execution_count": 24,
   "metadata": {},
   "outputs": [
    {
     "name": "stdout",
     "output_type": "stream",
     "text": [
      "           Order ID                         Product Name  Discount  Sales  \\\n",
      "30  AZ-2011-1410648         Nokia Smart Phone, Full Size       0.0   1908   \n",
      "58   AZ-2011-176674                Hoover Microwave, Red       0.1   1667   \n",
      "8   AZ-2011-1174243     Nokia Audio Dock, with Caller ID       0.0   1334   \n",
      "20  AZ-2011-1322840     Motorola Headset, with Caller ID       0.0    957   \n",
      "3   AZ-2011-1372644           Panasonic Printer, Durable       0.0    800   \n",
      "18  AZ-2011-1406494         Fellowes Lockers, Industrial       0.1    748   \n",
      "39  AZ-2011-1536006      Logitech Keyboard, Programmable       0.0    666   \n",
      "33  AZ-2011-1445262          Apple Smart Phone, Cordless       0.0    636   \n",
      "31   AZ-2011-144325        Bush Stackable Bookrack, Pine       0.0    630   \n",
      "14  AZ-2011-1260928        Eldon File Cart, Single Width       0.1    576   \n",
      "12  AZ-2011-1253407       Safco Stackable Bookrack, Pine       0.1    541   \n",
      "48  AZ-2011-1672552      Binney & Smith Sketch Pad, Blue       0.0    510   \n",
      "52  AZ-2011-1722024               Cisco Audio Dock, VoIP       0.0    364   \n",
      "59  AZ-2011-1902971  Wilson Jones Binding Machine, Clear       0.0    339   \n",
      "17   AZ-2011-130330     Office Star Chairmat, Adjustable       0.1    307   \n",
      "2   AZ-2011-1087704        Belkin Flash Drive, Bluetooth       0.0    294   \n",
      "\n",
      "    Profit  Quantity         Category Sub-Category Order no  no_of_digits  \n",
      "30     820         3       Technology       Phones  1410648             7  \n",
      "58     185         6  Office Supplies   Appliances   176674             6  \n",
      "8      200         8       Technology       Phones  1174243             7  \n",
      "20     316        12       Technology       Phones  1322840             7  \n",
      "3      168         3       Technology     Machines  1372644             7  \n",
      "18     283         4  Office Supplies      Storage  1406494             7  \n",
      "39      66         9       Technology  Accessories  1536006             7  \n",
      "33     140         1       Technology       Phones  1445262             7  \n",
      "31     132         5        Furniture    Bookcases   144325             6  \n",
      "14      51         5  Office Supplies      Storage  1260928             7  \n",
      "12     156         4        Furniture    Bookcases  1253407             7  \n",
      "48     132        11  Office Supplies          Art  1672552             7  \n",
      "52     142         2       Technology       Phones  1722024             7  \n",
      "59     102         7  Office Supplies      Binders  1902971             7  \n",
      "17      99         5        Furniture       Chairs   130330             6  \n",
      "2      109         7       Technology  Accessories  1087704             7  \n"
     ]
    }
   ],
   "source": [
    "highest_order=highest_order.sort_values(by='Sales',ascending=False) \n",
    "print(highest_order)"
   ]
  },
  {
   "cell_type": "markdown",
   "metadata": {
    "id": "1bXtNj_VGBgO"
   },
   "source": [
    "#### Column manipulation\n",
    "Question 7: Remove the orders with negative profit by dropping the corresponding rows with negative `Profit`. Find the product that makes the lowest profit per Quantity in the Technology category.\n",
    "\n",
    "    a) Nokia Audio Dock, with Caller ID\n",
    "    b) Logitech Keyboard, Programmable\n",
    "    c) Motorola Headset, with Caller ID\n",
    "    d) Belkin Flash Drive, Bluetooth"
   ]
  },
  {
   "cell_type": "code",
   "execution_count": null,
   "metadata": {},
   "outputs": [],
   "source": []
  },
  {
   "cell_type": "code",
   "execution_count": 28,
   "metadata": {
    "id": "6LahOfrbGBgP"
   },
   "outputs": [
    {
     "data": {
      "text/html": [
       "<div>\n",
       "<style scoped>\n",
       "    .dataframe tbody tr th:only-of-type {\n",
       "        vertical-align: middle;\n",
       "    }\n",
       "\n",
       "    .dataframe tbody tr th {\n",
       "        vertical-align: top;\n",
       "    }\n",
       "\n",
       "    .dataframe thead th {\n",
       "        text-align: right;\n",
       "    }\n",
       "</style>\n",
       "<table border=\"1\" class=\"dataframe\">\n",
       "  <thead>\n",
       "    <tr style=\"text-align: right;\">\n",
       "      <th></th>\n",
       "      <th>Order ID</th>\n",
       "      <th>Product Name</th>\n",
       "      <th>Discount</th>\n",
       "      <th>Sales</th>\n",
       "      <th>Profit</th>\n",
       "      <th>Quantity</th>\n",
       "      <th>Category</th>\n",
       "      <th>Sub-Category</th>\n",
       "      <th>Order no</th>\n",
       "      <th>no_of_digits</th>\n",
       "      <th>Profit_per_qty</th>\n",
       "    </tr>\n",
       "  </thead>\n",
       "  <tbody>\n",
       "    <tr>\n",
       "      <th>39</th>\n",
       "      <td>AZ-2011-1536006</td>\n",
       "      <td>Logitech Keyboard, Programmable</td>\n",
       "      <td>0.0</td>\n",
       "      <td>666</td>\n",
       "      <td>66</td>\n",
       "      <td>9</td>\n",
       "      <td>Technology</td>\n",
       "      <td>Accessories</td>\n",
       "      <td>1536006</td>\n",
       "      <td>7</td>\n",
       "      <td>7.333333</td>\n",
       "    </tr>\n",
       "    <tr>\n",
       "      <th>2</th>\n",
       "      <td>AZ-2011-1087704</td>\n",
       "      <td>Belkin Flash Drive, Bluetooth</td>\n",
       "      <td>0.0</td>\n",
       "      <td>294</td>\n",
       "      <td>109</td>\n",
       "      <td>7</td>\n",
       "      <td>Technology</td>\n",
       "      <td>Accessories</td>\n",
       "      <td>1087704</td>\n",
       "      <td>7</td>\n",
       "      <td>15.571429</td>\n",
       "    </tr>\n",
       "    <tr>\n",
       "      <th>63</th>\n",
       "      <td>AZ-2011-1967754</td>\n",
       "      <td>Logitech Numeric Keypad, USB</td>\n",
       "      <td>0.0</td>\n",
       "      <td>93</td>\n",
       "      <td>40</td>\n",
       "      <td>2</td>\n",
       "      <td>Technology</td>\n",
       "      <td>Accessories</td>\n",
       "      <td>1967754</td>\n",
       "      <td>7</td>\n",
       "      <td>20.000000</td>\n",
       "    </tr>\n",
       "    <tr>\n",
       "      <th>8</th>\n",
       "      <td>AZ-2011-1174243</td>\n",
       "      <td>Nokia Audio Dock, with Caller ID</td>\n",
       "      <td>0.0</td>\n",
       "      <td>1334</td>\n",
       "      <td>200</td>\n",
       "      <td>8</td>\n",
       "      <td>Technology</td>\n",
       "      <td>Phones</td>\n",
       "      <td>1174243</td>\n",
       "      <td>7</td>\n",
       "      <td>25.000000</td>\n",
       "    </tr>\n",
       "    <tr>\n",
       "      <th>20</th>\n",
       "      <td>AZ-2011-1322840</td>\n",
       "      <td>Motorola Headset, with Caller ID</td>\n",
       "      <td>0.0</td>\n",
       "      <td>957</td>\n",
       "      <td>316</td>\n",
       "      <td>12</td>\n",
       "      <td>Technology</td>\n",
       "      <td>Phones</td>\n",
       "      <td>1322840</td>\n",
       "      <td>7</td>\n",
       "      <td>26.333333</td>\n",
       "    </tr>\n",
       "    <tr>\n",
       "      <th>3</th>\n",
       "      <td>AZ-2011-1372644</td>\n",
       "      <td>Panasonic Printer, Durable</td>\n",
       "      <td>0.0</td>\n",
       "      <td>800</td>\n",
       "      <td>168</td>\n",
       "      <td>3</td>\n",
       "      <td>Technology</td>\n",
       "      <td>Machines</td>\n",
       "      <td>1372644</td>\n",
       "      <td>7</td>\n",
       "      <td>56.000000</td>\n",
       "    </tr>\n",
       "    <tr>\n",
       "      <th>52</th>\n",
       "      <td>AZ-2011-1722024</td>\n",
       "      <td>Cisco Audio Dock, VoIP</td>\n",
       "      <td>0.0</td>\n",
       "      <td>364</td>\n",
       "      <td>142</td>\n",
       "      <td>2</td>\n",
       "      <td>Technology</td>\n",
       "      <td>Phones</td>\n",
       "      <td>1722024</td>\n",
       "      <td>7</td>\n",
       "      <td>71.000000</td>\n",
       "    </tr>\n",
       "    <tr>\n",
       "      <th>33</th>\n",
       "      <td>AZ-2011-1445262</td>\n",
       "      <td>Apple Smart Phone, Cordless</td>\n",
       "      <td>0.0</td>\n",
       "      <td>636</td>\n",
       "      <td>140</td>\n",
       "      <td>1</td>\n",
       "      <td>Technology</td>\n",
       "      <td>Phones</td>\n",
       "      <td>1445262</td>\n",
       "      <td>7</td>\n",
       "      <td>140.000000</td>\n",
       "    </tr>\n",
       "    <tr>\n",
       "      <th>30</th>\n",
       "      <td>AZ-2011-1410648</td>\n",
       "      <td>Nokia Smart Phone, Full Size</td>\n",
       "      <td>0.0</td>\n",
       "      <td>1908</td>\n",
       "      <td>820</td>\n",
       "      <td>3</td>\n",
       "      <td>Technology</td>\n",
       "      <td>Phones</td>\n",
       "      <td>1410648</td>\n",
       "      <td>7</td>\n",
       "      <td>273.333333</td>\n",
       "    </tr>\n",
       "  </tbody>\n",
       "</table>\n",
       "</div>"
      ],
      "text/plain": [
       "           Order ID                      Product Name  Discount  Sales  \\\n",
       "39  AZ-2011-1536006   Logitech Keyboard, Programmable       0.0    666   \n",
       "2   AZ-2011-1087704     Belkin Flash Drive, Bluetooth       0.0    294   \n",
       "63  AZ-2011-1967754      Logitech Numeric Keypad, USB       0.0     93   \n",
       "8   AZ-2011-1174243  Nokia Audio Dock, with Caller ID       0.0   1334   \n",
       "20  AZ-2011-1322840  Motorola Headset, with Caller ID       0.0    957   \n",
       "3   AZ-2011-1372644        Panasonic Printer, Durable       0.0    800   \n",
       "52  AZ-2011-1722024            Cisco Audio Dock, VoIP       0.0    364   \n",
       "33  AZ-2011-1445262       Apple Smart Phone, Cordless       0.0    636   \n",
       "30  AZ-2011-1410648      Nokia Smart Phone, Full Size       0.0   1908   \n",
       "\n",
       "    Profit  Quantity    Category Sub-Category Order no  no_of_digits  \\\n",
       "39      66         9  Technology  Accessories  1536006             7   \n",
       "2      109         7  Technology  Accessories  1087704             7   \n",
       "63      40         2  Technology  Accessories  1967754             7   \n",
       "8      200         8  Technology       Phones  1174243             7   \n",
       "20     316        12  Technology       Phones  1322840             7   \n",
       "3      168         3  Technology     Machines  1372644             7   \n",
       "52     142         2  Technology       Phones  1722024             7   \n",
       "33     140         1  Technology       Phones  1445262             7   \n",
       "30     820         3  Technology       Phones  1410648             7   \n",
       "\n",
       "    Profit_per_qty  \n",
       "39        7.333333  \n",
       "2        15.571429  \n",
       "63       20.000000  \n",
       "8        25.000000  \n",
       "20       26.333333  \n",
       "3        56.000000  \n",
       "52       71.000000  \n",
       "33      140.000000  \n",
       "30      273.333333  "
      ]
     },
     "execution_count": 28,
     "metadata": {},
     "output_type": "execute_result"
    }
   ],
   "source": [
    "#your code here\n",
    "\n",
    "lowest_profit=df[df.Profit>0]\n",
    "lowest_profit=lowest_profit.loc[lowest_profit.Category=='Technology']\n",
    "lowest_profit['Profit_per_qty']=lowest_profit['Profit']/lowest_profit['Quantity']\n",
    "lowest_profit.sort_values(by='Profit_per_qty',ascending=True)\n"
   ]
  },
  {
   "cell_type": "code",
   "execution_count": null,
   "metadata": {},
   "outputs": [],
   "source": []
  }
 ],
 "metadata": {
  "colab": {
   "collapsed_sections": [],
   "name": "Pandas_graded_questions (2).ipynb",
   "provenance": []
  },
  "kernelspec": {
   "display_name": "Python 3",
   "language": "python",
   "name": "python3"
  },
  "language_info": {
   "codemirror_mode": {
    "name": "ipython",
    "version": 3
   },
   "file_extension": ".py",
   "mimetype": "text/x-python",
   "name": "python",
   "nbconvert_exporter": "python",
   "pygments_lexer": "ipython3",
   "version": "3.8.8"
  }
 },
 "nbformat": 4,
 "nbformat_minor": 4
}
